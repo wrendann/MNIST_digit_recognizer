{
 "cells": [
  {
   "cell_type": "code",
   "execution_count": 1,
   "id": "0aa38a71",
   "metadata": {
    "_cell_guid": "b1076dfc-b9ad-4769-8c92-a6c4dae69d19",
    "_uuid": "8f2839f25d086af736a60e9eeb907d3b93b6e0e5",
    "execution": {
     "iopub.execute_input": "2021-08-20T11:41:55.122992Z",
     "iopub.status.busy": "2021-08-20T11:41:55.121802Z",
     "iopub.status.idle": "2021-08-20T11:42:01.862062Z",
     "shell.execute_reply": "2021-08-20T11:42:01.861220Z",
     "shell.execute_reply.started": "2021-08-20T11:35:46.086480Z"
    },
    "papermill": {
     "duration": 6.752571,
     "end_time": "2021-08-20T11:42:01.862259",
     "exception": false,
     "start_time": "2021-08-20T11:41:55.109688",
     "status": "completed"
    },
    "tags": []
   },
   "outputs": [],
   "source": [
    "import pandas as pd\n",
    "\n",
    "digit_train = pd.read_csv(\"../input/digit-recognizer/train.csv\")\n",
    "digit_test = pd.read_csv(\"../input/digit-recognizer/test.csv\")\n",
    "\n",
    "df_train = digit_train.sample(frac=0.7, random_state=0)\n",
    "df_valid = digit_train.drop(df_train.index)\n",
    "\n",
    "X_train = df_train.drop(\"label\", axis=1, inplace=False)\n",
    "X_train = X_train.values.reshape(-1, 28, 28, 1)\n",
    "y_train = df_train[\"label\"]\n",
    "\n",
    "X_valid = df_valid.drop(\"label\", axis=1, inplace=False)\n",
    "X_valid = X_valid.values.reshape(-1, 28, 28, 1)\n",
    "y_valid = df_valid[\"label\"]"
   ]
  },
  {
   "cell_type": "code",
   "execution_count": 2,
   "id": "05e9832d",
   "metadata": {
    "execution": {
     "iopub.execute_input": "2021-08-20T11:42:01.886346Z",
     "iopub.status.busy": "2021-08-20T11:42:01.885597Z",
     "iopub.status.idle": "2021-08-20T11:42:01.890193Z",
     "shell.execute_reply": "2021-08-20T11:42:01.889564Z",
     "shell.execute_reply.started": "2021-08-20T11:35:59.687461Z"
    },
    "papermill": {
     "duration": 0.01926,
     "end_time": "2021-08-20T11:42:01.890357",
     "exception": false,
     "start_time": "2021-08-20T11:42:01.871097",
     "status": "completed"
    },
    "tags": []
   },
   "outputs": [
    {
     "data": {
      "text/plain": [
       "23079000"
      ]
     },
     "execution_count": 2,
     "metadata": {},
     "output_type": "execute_result"
    }
   ],
   "source": [
    "df_train.size"
   ]
  },
  {
   "cell_type": "code",
   "execution_count": 3,
   "id": "dd244832",
   "metadata": {
    "execution": {
     "iopub.execute_input": "2021-08-20T11:42:01.915073Z",
     "iopub.status.busy": "2021-08-20T11:42:01.914245Z",
     "iopub.status.idle": "2021-08-20T11:42:08.026421Z",
     "shell.execute_reply": "2021-08-20T11:42:08.025708Z"
    },
    "papermill": {
     "duration": 6.128909,
     "end_time": "2021-08-20T11:42:08.026572",
     "exception": false,
     "start_time": "2021-08-20T11:42:01.897663",
     "status": "completed"
    },
    "tags": []
   },
   "outputs": [],
   "source": [
    "from tensorflow import keras\n",
    "from tensorflow.keras import layers\n",
    "\n",
    "model = keras.Sequential([\n",
    "    layers.Conv2D(filters=32, kernel_size=3, activation=\"relu\", padding='same',\n",
    "                  input_shape=[28, 28, 1]),\n",
    "    layers.MaxPool2D(),\n",
    "    \n",
    "    layers.Dropout(0.3),\n",
    "    layers.BatchNormalization(),\n",
    "    \n",
    "    layers.Conv2D(filters=64, kernel_size=3, activation=\"relu\", padding='same'),\n",
    "    layers.MaxPool2D(),\n",
    "    \n",
    "    layers.Dropout(0.3),\n",
    "    layers.BatchNormalization(),\n",
    "    \n",
    "    layers.Conv2D(filters=128, kernel_size=3, activation=\"relu\", padding='same'),\n",
    "    layers.MaxPool2D(),\n",
    "    \n",
    "    layers.Dropout(0.3),\n",
    "    layers.BatchNormalization(),\n",
    "    \n",
    "    layers.Flatten(),\n",
    "    layers.Dense(16, activation='relu', input_shape=[784], \n",
    "        kernel_regularizer=keras.regularizers.L1(0.001)),\n",
    "    \n",
    "    layers.Dropout(0.3),\n",
    "    layers.BatchNormalization(),\n",
    "    \n",
    "    layers.Dense(16, activation='relu', \n",
    "        kernel_regularizer=keras.regularizers.L1(0.001)),\n",
    "    \n",
    "    layers.Dropout(0.3),\n",
    "    layers.BatchNormalization(),\n",
    "    \n",
    "    layers.Dense(10, activation='sigmoid'),\n",
    "])"
   ]
  },
  {
   "cell_type": "code",
   "execution_count": 4,
   "id": "ef7bb5a9",
   "metadata": {
    "execution": {
     "iopub.execute_input": "2021-08-20T11:42:08.048124Z",
     "iopub.status.busy": "2021-08-20T11:42:08.047135Z",
     "iopub.status.idle": "2021-08-20T11:42:08.062942Z",
     "shell.execute_reply": "2021-08-20T11:42:08.062418Z"
    },
    "papermill": {
     "duration": 0.029442,
     "end_time": "2021-08-20T11:42:08.063109",
     "exception": false,
     "start_time": "2021-08-20T11:42:08.033667",
     "status": "completed"
    },
    "tags": []
   },
   "outputs": [],
   "source": [
    "model.compile(optimizer='adam',\n",
    "              loss=keras.losses.SparseCategoricalCrossentropy(from_logits=True),\n",
    "              metrics=['accuracy'])"
   ]
  },
  {
   "cell_type": "code",
   "execution_count": 5,
   "id": "7d670a1b",
   "metadata": {
    "execution": {
     "iopub.execute_input": "2021-08-20T11:42:08.083462Z",
     "iopub.status.busy": "2021-08-20T11:42:08.082766Z",
     "iopub.status.idle": "2021-08-20T12:18:41.844280Z",
     "shell.execute_reply": "2021-08-20T12:18:41.843723Z"
    },
    "papermill": {
     "duration": 2193.774148,
     "end_time": "2021-08-20T12:18:41.844441",
     "exception": false,
     "start_time": "2021-08-20T11:42:08.070293",
     "status": "completed"
    },
    "tags": []
   },
   "outputs": [
    {
     "name": "stdout",
     "output_type": "stream",
     "text": [
      "Epoch 1/1000\n",
      "115/115 [==============================] - 31s 256ms/step - loss: 2.6908 - accuracy: 0.3223 - val_loss: 1.3002 - val_accuracy: 0.8796\n",
      "Epoch 2/1000\n",
      "115/115 [==============================] - 28s 243ms/step - loss: 1.5953 - accuracy: 0.6554 - val_loss: 0.7443 - val_accuracy: 0.9606\n",
      "Epoch 3/1000\n",
      "115/115 [==============================] - 28s 241ms/step - loss: 1.1260 - accuracy: 0.7397 - val_loss: 0.5284 - val_accuracy: 0.9693\n",
      "Epoch 4/1000\n",
      "115/115 [==============================] - 28s 244ms/step - loss: 0.8705 - accuracy: 0.7989 - val_loss: 0.4153 - val_accuracy: 0.9756\n",
      "Epoch 5/1000\n",
      "115/115 [==============================] - 28s 244ms/step - loss: 0.7698 - accuracy: 0.8244 - val_loss: 0.3193 - val_accuracy: 0.9789\n",
      "Epoch 6/1000\n",
      "115/115 [==============================] - 28s 241ms/step - loss: 0.6981 - accuracy: 0.8418 - val_loss: 0.2811 - val_accuracy: 0.9821\n",
      "Epoch 7/1000\n",
      "115/115 [==============================] - 28s 243ms/step - loss: 0.6492 - accuracy: 0.8561 - val_loss: 0.2568 - val_accuracy: 0.9845\n",
      "Epoch 8/1000\n",
      "115/115 [==============================] - 28s 243ms/step - loss: 0.5950 - accuracy: 0.8689 - val_loss: 0.2390 - val_accuracy: 0.9854\n",
      "Epoch 9/1000\n",
      "115/115 [==============================] - 28s 244ms/step - loss: 0.5718 - accuracy: 0.8788 - val_loss: 0.2367 - val_accuracy: 0.9838\n",
      "Epoch 10/1000\n",
      "115/115 [==============================] - 28s 242ms/step - loss: 0.5563 - accuracy: 0.8777 - val_loss: 0.2241 - val_accuracy: 0.9857\n",
      "Epoch 11/1000\n",
      "115/115 [==============================] - 28s 245ms/step - loss: 0.5321 - accuracy: 0.8866 - val_loss: 0.2202 - val_accuracy: 0.9862\n",
      "Epoch 12/1000\n",
      "115/115 [==============================] - 27s 238ms/step - loss: 0.5057 - accuracy: 0.8931 - val_loss: 0.2079 - val_accuracy: 0.9852\n",
      "Epoch 13/1000\n",
      "115/115 [==============================] - 28s 242ms/step - loss: 0.4974 - accuracy: 0.8899 - val_loss: 0.2030 - val_accuracy: 0.9863\n",
      "Epoch 14/1000\n",
      "115/115 [==============================] - 28s 242ms/step - loss: 0.4919 - accuracy: 0.8920 - val_loss: 0.1991 - val_accuracy: 0.9867\n",
      "Epoch 15/1000\n",
      "115/115 [==============================] - 28s 243ms/step - loss: 0.4864 - accuracy: 0.8959 - val_loss: 0.1944 - val_accuracy: 0.9863\n",
      "Epoch 16/1000\n",
      "115/115 [==============================] - 28s 245ms/step - loss: 0.4741 - accuracy: 0.8952 - val_loss: 0.1880 - val_accuracy: 0.9869\n",
      "Epoch 17/1000\n",
      "115/115 [==============================] - 28s 244ms/step - loss: 0.4556 - accuracy: 0.9029 - val_loss: 0.1878 - val_accuracy: 0.9876\n",
      "Epoch 18/1000\n",
      "115/115 [==============================] - 28s 246ms/step - loss: 0.4566 - accuracy: 0.9032 - val_loss: 0.1943 - val_accuracy: 0.9863\n",
      "Epoch 19/1000\n",
      "115/115 [==============================] - 28s 242ms/step - loss: 0.4430 - accuracy: 0.9044 - val_loss: 0.1848 - val_accuracy: 0.9883\n",
      "Epoch 20/1000\n",
      "115/115 [==============================] - 28s 242ms/step - loss: 0.4352 - accuracy: 0.9071 - val_loss: 0.1781 - val_accuracy: 0.9883\n",
      "Epoch 21/1000\n",
      "115/115 [==============================] - 28s 242ms/step - loss: 0.4360 - accuracy: 0.9040 - val_loss: 0.1760 - val_accuracy: 0.9878\n",
      "Epoch 22/1000\n",
      "115/115 [==============================] - 28s 242ms/step - loss: 0.4189 - accuracy: 0.9119 - val_loss: 0.1767 - val_accuracy: 0.9877\n",
      "Epoch 23/1000\n",
      "115/115 [==============================] - 27s 238ms/step - loss: 0.4166 - accuracy: 0.9098 - val_loss: 0.1676 - val_accuracy: 0.9896\n",
      "Epoch 24/1000\n",
      "115/115 [==============================] - 28s 241ms/step - loss: 0.4167 - accuracy: 0.9085 - val_loss: 0.1721 - val_accuracy: 0.9894\n",
      "Epoch 25/1000\n",
      "115/115 [==============================] - 27s 239ms/step - loss: 0.4032 - accuracy: 0.9134 - val_loss: 0.1702 - val_accuracy: 0.9879\n",
      "Epoch 26/1000\n",
      "115/115 [==============================] - 27s 237ms/step - loss: 0.4001 - accuracy: 0.9115 - val_loss: 0.1689 - val_accuracy: 0.9888\n",
      "Epoch 27/1000\n",
      "115/115 [==============================] - 28s 240ms/step - loss: 0.4010 - accuracy: 0.9137 - val_loss: 0.1658 - val_accuracy: 0.9886\n",
      "Epoch 28/1000\n",
      "115/115 [==============================] - 27s 236ms/step - loss: 0.4117 - accuracy: 0.9135 - val_loss: 0.1806 - val_accuracy: 0.9847\n",
      "Epoch 29/1000\n",
      "115/115 [==============================] - 27s 238ms/step - loss: 0.3978 - accuracy: 0.9121 - val_loss: 0.1649 - val_accuracy: 0.9883\n",
      "Epoch 30/1000\n",
      "115/115 [==============================] - 27s 239ms/step - loss: 0.3858 - accuracy: 0.9155 - val_loss: 0.1623 - val_accuracy: 0.9895\n",
      "Epoch 31/1000\n",
      "115/115 [==============================] - 28s 243ms/step - loss: 0.3918 - accuracy: 0.9166 - val_loss: 0.1590 - val_accuracy: 0.9900\n",
      "Epoch 32/1000\n",
      "115/115 [==============================] - 28s 242ms/step - loss: 0.3783 - accuracy: 0.9172 - val_loss: 0.1591 - val_accuracy: 0.9903\n",
      "Epoch 33/1000\n",
      "115/115 [==============================] - 28s 247ms/step - loss: 0.3930 - accuracy: 0.9137 - val_loss: 0.1598 - val_accuracy: 0.9899\n",
      "Epoch 34/1000\n",
      "115/115 [==============================] - 28s 244ms/step - loss: 0.3671 - accuracy: 0.9208 - val_loss: 0.1573 - val_accuracy: 0.9891\n",
      "Epoch 35/1000\n",
      "115/115 [==============================] - 28s 239ms/step - loss: 0.3697 - accuracy: 0.9224 - val_loss: 0.1605 - val_accuracy: 0.9887\n",
      "Epoch 36/1000\n",
      "115/115 [==============================] - 28s 244ms/step - loss: 0.3680 - accuracy: 0.9205 - val_loss: 0.1551 - val_accuracy: 0.9901\n",
      "Epoch 37/1000\n",
      "115/115 [==============================] - 28s 244ms/step - loss: 0.3641 - accuracy: 0.9230 - val_loss: 0.1600 - val_accuracy: 0.9904\n",
      "Epoch 38/1000\n",
      "115/115 [==============================] - 28s 244ms/step - loss: 0.3749 - accuracy: 0.9167 - val_loss: 0.1553 - val_accuracy: 0.9898\n",
      "Epoch 39/1000\n",
      "115/115 [==============================] - 29s 248ms/step - loss: 0.3658 - accuracy: 0.9214 - val_loss: 0.1558 - val_accuracy: 0.9891\n",
      "Epoch 40/1000\n",
      "115/115 [==============================] - 28s 244ms/step - loss: 0.3627 - accuracy: 0.9227 - val_loss: 0.1572 - val_accuracy: 0.9895\n",
      "Epoch 41/1000\n",
      "115/115 [==============================] - 28s 247ms/step - loss: 0.3574 - accuracy: 0.9208 - val_loss: 0.1564 - val_accuracy: 0.9890\n",
      "Epoch 42/1000\n",
      "115/115 [==============================] - 28s 242ms/step - loss: 0.3482 - accuracy: 0.9256 - val_loss: 0.1575 - val_accuracy: 0.9890\n",
      "Epoch 43/1000\n",
      "115/115 [==============================] - 28s 247ms/step - loss: 0.3654 - accuracy: 0.9201 - val_loss: 0.1620 - val_accuracy: 0.9890\n",
      "Epoch 44/1000\n",
      "115/115 [==============================] - 28s 247ms/step - loss: 0.3568 - accuracy: 0.9226 - val_loss: 0.1552 - val_accuracy: 0.9897\n",
      "Epoch 45/1000\n",
      "115/115 [==============================] - 28s 246ms/step - loss: 0.3572 - accuracy: 0.9240 - val_loss: 0.1548 - val_accuracy: 0.9894\n",
      "Epoch 46/1000\n",
      "115/115 [==============================] - 28s 247ms/step - loss: 0.3530 - accuracy: 0.9236 - val_loss: 0.1499 - val_accuracy: 0.9896\n",
      "Epoch 47/1000\n",
      "115/115 [==============================] - 28s 246ms/step - loss: 0.3436 - accuracy: 0.9260 - val_loss: 0.1593 - val_accuracy: 0.9890\n",
      "Epoch 48/1000\n",
      "115/115 [==============================] - 28s 245ms/step - loss: 0.3451 - accuracy: 0.9277 - val_loss: 0.1567 - val_accuracy: 0.9892\n",
      "Epoch 49/1000\n",
      "115/115 [==============================] - 28s 241ms/step - loss: 0.3421 - accuracy: 0.9264 - val_loss: 0.1478 - val_accuracy: 0.9898\n",
      "Epoch 50/1000\n",
      "115/115 [==============================] - 28s 247ms/step - loss: 0.3469 - accuracy: 0.9264 - val_loss: 0.1520 - val_accuracy: 0.9898\n",
      "Epoch 51/1000\n",
      "115/115 [==============================] - 28s 248ms/step - loss: 0.3391 - accuracy: 0.9280 - val_loss: 0.1570 - val_accuracy: 0.9887\n",
      "Epoch 52/1000\n",
      "115/115 [==============================] - 28s 248ms/step - loss: 0.3484 - accuracy: 0.9226 - val_loss: 0.1483 - val_accuracy: 0.9906\n",
      "Epoch 53/1000\n",
      "115/115 [==============================] - 28s 247ms/step - loss: 0.3437 - accuracy: 0.9276 - val_loss: 0.1563 - val_accuracy: 0.9899\n",
      "Epoch 54/1000\n",
      "115/115 [==============================] - 28s 247ms/step - loss: 0.3588 - accuracy: 0.9218 - val_loss: 0.1520 - val_accuracy: 0.9902\n",
      "Epoch 55/1000\n",
      "115/115 [==============================] - 27s 239ms/step - loss: 0.3545 - accuracy: 0.9236 - val_loss: 0.1611 - val_accuracy: 0.9873\n",
      "Epoch 56/1000\n",
      "115/115 [==============================] - 29s 249ms/step - loss: 0.3388 - accuracy: 0.9277 - val_loss: 0.1522 - val_accuracy: 0.9899\n",
      "Epoch 57/1000\n",
      "115/115 [==============================] - 29s 248ms/step - loss: 0.3521 - accuracy: 0.9256 - val_loss: 0.1497 - val_accuracy: 0.9903\n",
      "Epoch 58/1000\n",
      "115/115 [==============================] - 28s 248ms/step - loss: 0.3359 - accuracy: 0.9283 - val_loss: 0.1448 - val_accuracy: 0.9905\n",
      "Epoch 59/1000\n",
      "115/115 [==============================] - 28s 248ms/step - loss: 0.3333 - accuracy: 0.9256 - val_loss: 0.1497 - val_accuracy: 0.9901\n",
      "Epoch 60/1000\n",
      "115/115 [==============================] - 28s 248ms/step - loss: 0.3358 - accuracy: 0.9303 - val_loss: 0.1507 - val_accuracy: 0.9905\n",
      "Epoch 61/1000\n",
      "115/115 [==============================] - 27s 239ms/step - loss: 0.3491 - accuracy: 0.9249 - val_loss: 0.1514 - val_accuracy: 0.9902\n",
      "Epoch 62/1000\n",
      "115/115 [==============================] - 28s 247ms/step - loss: 0.3433 - accuracy: 0.9252 - val_loss: 0.1493 - val_accuracy: 0.9897\n",
      "Epoch 63/1000\n",
      "115/115 [==============================] - 28s 245ms/step - loss: 0.3416 - accuracy: 0.9254 - val_loss: 0.1486 - val_accuracy: 0.9917\n",
      "Epoch 64/1000\n",
      "115/115 [==============================] - 29s 250ms/step - loss: 0.3378 - accuracy: 0.9282 - val_loss: 0.1469 - val_accuracy: 0.9910\n",
      "Epoch 65/1000\n",
      "115/115 [==============================] - 28s 247ms/step - loss: 0.3345 - accuracy: 0.9282 - val_loss: 0.1434 - val_accuracy: 0.9910\n",
      "Epoch 66/1000\n",
      "115/115 [==============================] - 28s 248ms/step - loss: 0.3356 - accuracy: 0.9292 - val_loss: 0.1540 - val_accuracy: 0.9906\n",
      "Epoch 67/1000\n",
      "115/115 [==============================] - 28s 240ms/step - loss: 0.3413 - accuracy: 0.9281 - val_loss: 0.1501 - val_accuracy: 0.9898\n",
      "Epoch 68/1000\n",
      "115/115 [==============================] - 29s 249ms/step - loss: 0.3273 - accuracy: 0.9307 - val_loss: 0.1413 - val_accuracy: 0.9919\n",
      "Epoch 69/1000\n",
      "115/115 [==============================] - 29s 249ms/step - loss: 0.3213 - accuracy: 0.9327 - val_loss: 0.1465 - val_accuracy: 0.9900\n",
      "Epoch 70/1000\n",
      "115/115 [==============================] - 28s 247ms/step - loss: 0.3266 - accuracy: 0.9283 - val_loss: 0.1543 - val_accuracy: 0.9911\n",
      "Epoch 71/1000\n",
      "115/115 [==============================] - 29s 251ms/step - loss: 0.3332 - accuracy: 0.9318 - val_loss: 0.1514 - val_accuracy: 0.9889\n",
      "Epoch 72/1000\n",
      "115/115 [==============================] - 28s 242ms/step - loss: 0.3265 - accuracy: 0.9310 - val_loss: 0.1519 - val_accuracy: 0.9901\n",
      "Epoch 73/1000\n",
      "115/115 [==============================] - 29s 249ms/step - loss: 0.3292 - accuracy: 0.9309 - val_loss: 0.1499 - val_accuracy: 0.9905\n",
      "Epoch 74/1000\n",
      "115/115 [==============================] - 29s 251ms/step - loss: 0.3181 - accuracy: 0.9350 - val_loss: 0.1542 - val_accuracy: 0.9905\n",
      "Epoch 75/1000\n",
      "115/115 [==============================] - 29s 250ms/step - loss: 0.3254 - accuracy: 0.9290 - val_loss: 0.1498 - val_accuracy: 0.9910\n",
      "Epoch 76/1000\n",
      "115/115 [==============================] - 29s 253ms/step - loss: 0.3272 - accuracy: 0.9317 - val_loss: 0.1455 - val_accuracy: 0.9915\n",
      "Epoch 77/1000\n",
      "115/115 [==============================] - 29s 250ms/step - loss: 0.3151 - accuracy: 0.9328 - val_loss: 0.1466 - val_accuracy: 0.9906\n",
      "Epoch 78/1000\n",
      "115/115 [==============================] - 28s 240ms/step - loss: 0.3134 - accuracy: 0.9358 - val_loss: 0.1507 - val_accuracy: 0.9893\n"
     ]
    }
   ],
   "source": [
    "early_stopping = keras.callbacks.EarlyStopping(\n",
    "    patience=10,\n",
    "    min_delta=0.001,\n",
    "    restore_best_weights=True,\n",
    ")\n",
    "\n",
    "history = model.fit(\n",
    "    X_train, y_train,\n",
    "    validation_data=(X_valid, y_valid),\n",
    "    batch_size=256,\n",
    "    epochs=1000,\n",
    "    callbacks=[early_stopping],\n",
    ")"
   ]
  },
  {
   "cell_type": "code",
   "execution_count": 6,
   "id": "b987b87e",
   "metadata": {
    "execution": {
     "iopub.execute_input": "2021-08-20T12:18:47.384903Z",
     "iopub.status.busy": "2021-08-20T12:18:47.384016Z",
     "iopub.status.idle": "2021-08-20T12:18:47.835230Z",
     "shell.execute_reply": "2021-08-20T12:18:47.835723Z"
    },
    "papermill": {
     "duration": 3.269973,
     "end_time": "2021-08-20T12:18:47.835911",
     "exception": false,
     "start_time": "2021-08-20T12:18:44.565938",
     "status": "completed"
    },
    "tags": []
   },
   "outputs": [
    {
     "data": {
      "text/plain": [
       "<AxesSubplot:>"
      ]
     },
     "execution_count": 6,
     "metadata": {},
     "output_type": "execute_result"
    },
    {
     "data": {
      "image/png": "[encoded data removed]",
      "text/plain": [
       "<Figure size 432x288 with 1 Axes>"
      ]
     },
     "metadata": {
      "needs_background": "light"
     },
     "output_type": "display_data"
    },
    {
     "data": {
      "image/png": "[encoded data removed]",
      "text/plain": [
       "<Figure size 432x288 with 1 Axes>"
      ]
     },
     "metadata": {
      "needs_background": "light"
     },
     "output_type": "display_data"
    }
   ],
   "source": [
    "history_df = pd.DataFrame(history.history)\n",
    "history_df.loc[5:, ['loss', 'val_loss']].plot()\n",
    "history_df.loc[5:, ['accuracy', 'val_accuracy']].plot()"
   ]
  },
  {
   "cell_type": "code",
   "execution_count": 7,
   "id": "add97353",
   "metadata": {
    "execution": {
     "iopub.execute_input": "2021-08-20T12:18:53.354347Z",
     "iopub.status.busy": "2021-08-20T12:18:53.353279Z",
     "iopub.status.idle": "2021-08-20T12:19:01.885345Z",
     "shell.execute_reply": "2021-08-20T12:19:01.884803Z"
    },
    "papermill": {
     "duration": 11.270236,
     "end_time": "2021-08-20T12:19:01.885502",
     "exception": false,
     "start_time": "2021-08-20T12:18:50.615266",
     "status": "completed"
    },
    "tags": []
   },
   "outputs": [],
   "source": [
    "import numpy as np\n",
    "\n",
    "pred_sub = model.predict(digit_test.values.reshape(-1, 28, 28, 1))\n",
    "pred_sub = [np.argmax(i) for i in pred_sub]\n",
    "d = pd.read_csv(\"/kaggle/input/digit-recognizer/sample_submission.csv\")\n",
    "d[\"Label\"] = pred_sub\n",
    "\n",
    "d.to_csv(\"submission.csv\", index=False)"
   ]
  }
 ],
 "metadata": {
  "kernelspec": {
   "display_name": "Python 3",
   "language": "python",
   "name": "python3"
  },
  "language_info": {
   "codemirror_mode": {
    "name": "ipython",
    "version": 3
   },
   "file_extension": ".py",
   "mimetype": "text/x-python",
   "name": "python",
   "nbconvert_exporter": "python",
   "pygments_lexer": "ipython3",
   "version": "3.7.10"
  },
  "papermill": {
   "default_parameters": {},
   "duration": 2239.655657,
   "end_time": "2021-08-20T12:19:06.278157",
   "environment_variables": {},
   "exception": null,
   "input_path": "__notebook__.ipynb",
   "output_path": "__notebook__.ipynb",
   "parameters": {},
   "start_time": "2021-08-20T11:41:46.622500",
   "version": "2.3.3"
  }
 },
 "nbformat": 4,
 "nbformat_minor": 5
}
